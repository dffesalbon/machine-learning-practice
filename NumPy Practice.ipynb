{
  "nbformat": 4,
  "nbformat_minor": 0,
  "metadata": {
    "colab": {
      "name": "NumPy Practice.ipynb",
      "provenance": [],
      "authorship_tag": "ABX9TyOA0dvhadOxMoD9XNDspXqL",
      "include_colab_link": true
    },
    "kernelspec": {
      "name": "python3",
      "display_name": "Python 3"
    },
    "language_info": {
      "name": "python"
    }
  },
  "cells": [
    {
      "cell_type": "markdown",
      "metadata": {
        "id": "view-in-github",
        "colab_type": "text"
      },
      "source": [
        "<a href=\"https://colab.research.google.com/github/dffesalbon/ml-tutorials/blob/main/NumPy%20Practice.ipynb\" target=\"_parent\"><img src=\"https://colab.research.google.com/assets/colab-badge.svg\" alt=\"Open In Colab\"/></a>"
      ]
    },
    {
      "cell_type": "code",
      "execution_count": null,
      "metadata": {
        "id": "TS2sXJGVnOk-"
      },
      "outputs": [],
      "source": [
        "import numpy as np"
      ]
    },
    {
      "cell_type": "code",
      "source": [
        "from time import process_time"
      ],
      "metadata": {
        "id": "rwqSOVknqIWw"
      },
      "execution_count": null,
      "outputs": []
    },
    {
      "cell_type": "code",
      "source": [
        "list = [i for i in range(10000)]\n",
        "start = process_time()\n",
        "list = [i + 5 for i in list]\n",
        "end = process_time()\n",
        "print(end- start);"
      ],
      "metadata": {
        "colab": {
          "base_uri": "https://localhost:8080/"
        },
        "id": "j2C9KoBKrd6e",
        "outputId": "45472419-e852-4f12-a293-38abff7219a1"
      },
      "execution_count": null,
      "outputs": [
        {
          "output_type": "stream",
          "name": "stdout",
          "text": [
            "0.0007502019999989784\n"
          ]
        }
      ]
    },
    {
      "cell_type": "code",
      "source": [
        "np_array = np.array([i for i in range(10000)])\n",
        "start = process_time()\n",
        "np_array += 5\n",
        "end = process_time()\n",
        "print(end- start);"
      ],
      "metadata": {
        "colab": {
          "base_uri": "https://localhost:8080/"
        },
        "id": "cY_tTPiKsFZh",
        "outputId": "4bc3c300-3659-4057-f44e-a15e37b699d6"
      },
      "execution_count": null,
      "outputs": [
        {
          "output_type": "stream",
          "name": "stdout",
          "text": [
            "0.0002238440000006392\n"
          ]
        }
      ]
    },
    {
      "cell_type": "code",
      "source": [
        "list_np = np.array([1, 2, 3, 4, 5])\n",
        "list_array = [1, 2, 3, 4, 5]\n",
        "print(list_np)\n",
        "print(list_array)\n",
        "\n",
        "print(type(list_np))\n",
        "print(type(list_array))\n"
      ],
      "metadata": {
        "colab": {
          "base_uri": "https://localhost:8080/"
        },
        "id": "QufHRfJlxm-g",
        "outputId": "dcaeb46b-ff9e-4977-eb2b-36d28092ea65"
      },
      "execution_count": null,
      "outputs": [
        {
          "output_type": "stream",
          "name": "stdout",
          "text": [
            "[1 2 3 4 5]\n",
            "[1, 2, 3, 4, 5]\n",
            "<class 'numpy.ndarray'>\n",
            "<class 'list'>\n"
          ]
        }
      ]
    }
  ]
}