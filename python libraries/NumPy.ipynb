{
  "nbformat": 4,
  "nbformat_minor": 0,
  "metadata": {
    "colab": {
      "name": "NumPy.ipynb",
      "provenance": [],
      "collapsed_sections": [],
      "authorship_tag": "ABX9TyPpuchO1Kp+mv0H9wkY56KA",
      "include_colab_link": true
    },
    "kernelspec": {
      "name": "python3",
      "display_name": "Python 3"
    },
    "language_info": {
      "name": "python"
    }
  },
  "cells": [
    {
      "cell_type": "markdown",
      "metadata": {
        "id": "view-in-github",
        "colab_type": "text"
      },
      "source": [
        "<a href=\"https://colab.research.google.com/github/dffesalbon/machine-learning-tutorials/blob/main/NumPy.ipynb\" target=\"_parent\"><img src=\"https://colab.research.google.com/assets/colab-badge.svg\" alt=\"Open In Colab\"/></a>"
      ]
    },
    {
      "cell_type": "code",
      "execution_count": null,
      "metadata": {
        "id": "TS2sXJGVnOk-"
      },
      "outputs": [],
      "source": [
        "import numpy as np"
      ]
    },
    {
      "cell_type": "code",
      "source": [
        "from time import process_time"
      ],
      "metadata": {
        "id": "rwqSOVknqIWw"
      },
      "execution_count": null,
      "outputs": []
    },
    {
      "cell_type": "code",
      "source": [
        "list = [i for i in range(10000)]\n",
        "start = process_time()\n",
        "list = [i + 5 for i in list]\n",
        "end = process_time()\n",
        "print(end- start);"
      ],
      "metadata": {
        "colab": {
          "base_uri": "https://localhost:8080/"
        },
        "id": "j2C9KoBKrd6e",
        "outputId": "ec428080-3a4f-445c-9814-edee94819f73"
      },
      "execution_count": null,
      "outputs": [
        {
          "output_type": "stream",
          "name": "stdout",
          "text": [
            "0.001068748999999869\n"
          ]
        }
      ]
    },
    {
      "cell_type": "code",
      "source": [
        "np_array = np.array([i for i in range(10000)])\n",
        "start = process_time()\n",
        "np_array += 5\n",
        "end = process_time()\n",
        "print(end- start);"
      ],
      "metadata": {
        "colab": {
          "base_uri": "https://localhost:8080/"
        },
        "id": "cY_tTPiKsFZh",
        "outputId": "c60d82fb-d951-4eec-d19d-43c75a155f48"
      },
      "execution_count": null,
      "outputs": [
        {
          "output_type": "stream",
          "name": "stdout",
          "text": [
            "0.004863036000000154\n"
          ]
        }
      ]
    },
    {
      "cell_type": "code",
      "source": [
        "#list_np = np.array([1, 2, 3, 4, 5])\n",
        "list_array = [1, 2, 3, 4, 5]\n",
        "list_np = np.array(list_array)\n",
        "print(list_np)\n",
        "print(list_array)\n",
        "\n",
        "print(type(list_np))\n",
        "print(type(list_array))\n"
      ],
      "metadata": {
        "colab": {
          "base_uri": "https://localhost:8080/"
        },
        "id": "QufHRfJlxm-g",
        "outputId": "975f1a10-6683-45bd-a226-19151b58a29e"
      },
      "execution_count": null,
      "outputs": [
        {
          "output_type": "stream",
          "name": "stdout",
          "text": [
            "[1 2 3 4 5]\n",
            "[1, 2, 3, 4, 5]\n",
            "<class 'numpy.ndarray'>\n",
            "<class 'list'>\n"
          ]
        }
      ]
    },
    {
      "cell_type": "code",
      "source": [
        "a = np.array([1, 2, 3, 4])\n",
        "print(a)\n",
        "a.shape"
      ],
      "metadata": {
        "id": "Ss6dzEGyE2dB",
        "outputId": "889e68a3-a090-477a-b821-a1666998458f",
        "colab": {
          "base_uri": "https://localhost:8080/"
        }
      },
      "execution_count": null,
      "outputs": [
        {
          "output_type": "stream",
          "name": "stdout",
          "text": [
            "[1 2 3 4]\n"
          ]
        },
        {
          "output_type": "execute_result",
          "data": {
            "text/plain": [
              "(4,)"
            ]
          },
          "metadata": {},
          "execution_count": 9
        }
      ]
    },
    {
      "cell_type": "code",
      "source": [
        "b = np.array([(1, 2, 3, 4), (5, 6, 7, 8)])\n",
        "print(b)\n",
        "b.shape"
      ],
      "metadata": {
        "id": "4MWpmUFrE970",
        "outputId": "33cfb4a5-37f0-46d3-9cf7-ef6119c42416",
        "colab": {
          "base_uri": "https://localhost:8080/"
        }
      },
      "execution_count": null,
      "outputs": [
        {
          "output_type": "stream",
          "name": "stdout",
          "text": [
            "[[1 2 3 4]\n",
            " [5 6 7 8]]\n"
          ]
        },
        {
          "output_type": "execute_result",
          "data": {
            "text/plain": [
              "(2, 4)"
            ]
          },
          "metadata": {},
          "execution_count": 8
        }
      ]
    },
    {
      "cell_type": "code",
      "source": [
        "c = np.array([(1, 2, 3, 4), (5, 6, 7, 8)], dtype=float)\n",
        "print(c)"
      ],
      "metadata": {
        "id": "wm_ZSGfTFREm",
        "outputId": "9a3e1113-95a6-45f7-c6cd-23cde2629bc6",
        "colab": {
          "base_uri": "https://localhost:8080/"
        }
      },
      "execution_count": null,
      "outputs": [
        {
          "output_type": "stream",
          "name": "stdout",
          "text": [
            "[[1. 2. 3. 4.]\n",
            " [5. 6. 7. 8.]]\n"
          ]
        }
      ]
    },
    {
      "cell_type": "markdown",
      "source": [
        "Initial Placeholders in NumPy arrays"
      ],
      "metadata": {
        "id": "brrj_RWQFjAO"
      }
    },
    {
      "cell_type": "code",
      "source": [
        "#array of zeroes\n",
        "\n",
        "x = np.zeros((4, 5))\n",
        "print(x)"
      ],
      "metadata": {
        "id": "-D680_RrFoYU",
        "outputId": "0c4f0080-fcbd-423d-fabd-684e64d96235",
        "colab": {
          "base_uri": "https://localhost:8080/"
        }
      },
      "execution_count": null,
      "outputs": [
        {
          "output_type": "stream",
          "name": "stdout",
          "text": [
            "[[0. 0. 0. 0. 0.]\n",
            " [0. 0. 0. 0. 0.]\n",
            " [0. 0. 0. 0. 0.]\n",
            " [0. 0. 0. 0. 0.]]\n"
          ]
        }
      ]
    },
    {
      "cell_type": "code",
      "source": [
        "#array of ones\n",
        "\n",
        "y = np.ones((3, 3))\n",
        "print(y)"
      ],
      "metadata": {
        "id": "K8YJ57cSF4th",
        "outputId": "03d12bf9-e762-4400-ca17-644edb83e44c",
        "colab": {
          "base_uri": "https://localhost:8080/"
        }
      },
      "execution_count": null,
      "outputs": [
        {
          "output_type": "stream",
          "name": "stdout",
          "text": [
            "[[1. 1. 1.]\n",
            " [1. 1. 1.]\n",
            " [1. 1. 1.]]\n"
          ]
        }
      ]
    },
    {
      "cell_type": "code",
      "source": [
        "#array of certain value\n",
        "\n",
        "z = np.full((5, 4), 5)\n",
        "print(z)"
      ],
      "metadata": {
        "id": "FS7M6vq6GDvm",
        "outputId": "b5df316b-0c83-48ae-fb36-421486fa9846",
        "colab": {
          "base_uri": "https://localhost:8080/"
        }
      },
      "execution_count": null,
      "outputs": [
        {
          "output_type": "stream",
          "name": "stdout",
          "text": [
            "[[5 5 5 5]\n",
            " [5 5 5 5]\n",
            " [5 5 5 5]\n",
            " [5 5 5 5]\n",
            " [5 5 5 5]]\n"
          ]
        }
      ]
    },
    {
      "cell_type": "code",
      "source": [
        "#create identity matrix\n",
        "\n",
        "a = np.eye(5)\n",
        "print(a)"
      ],
      "metadata": {
        "id": "N_9BYQpAGQRJ",
        "outputId": "e2121374-7050-4b7f-f07d-d217b69d90c5",
        "colab": {
          "base_uri": "https://localhost:8080/"
        }
      },
      "execution_count": null,
      "outputs": [
        {
          "output_type": "stream",
          "name": "stdout",
          "text": [
            "[[1. 0. 0. 0. 0.]\n",
            " [0. 1. 0. 0. 0.]\n",
            " [0. 0. 1. 0. 0.]\n",
            " [0. 0. 0. 1. 0.]\n",
            " [0. 0. 0. 0. 1.]]\n"
          ]
        }
      ]
    },
    {
      "cell_type": "code",
      "source": [
        "#create np array with random values\n",
        "b = np.random.random((3, 4))\n",
        "print(b)"
      ],
      "metadata": {
        "id": "Kf2naUV3Gxht",
        "outputId": "afe2ffa2-8300-4efa-f788-ce35ee085e3f",
        "colab": {
          "base_uri": "https://localhost:8080/"
        }
      },
      "execution_count": null,
      "outputs": [
        {
          "output_type": "stream",
          "name": "stdout",
          "text": [
            "[[0.53948893 0.95285292 0.40089946 0.99121532]\n",
            " [0.27429684 0.32497274 0.95119705 0.88117026]\n",
            " [0.1535811  0.87427585 0.16338656 0.75960484]]\n"
          ]
        }
      ]
    },
    {
      "cell_type": "code",
      "source": [
        "#create np array with random integer values with range\n",
        "\n",
        "c = np.random.randint(1, 20, (3, 4))\n",
        "print(c)"
      ],
      "metadata": {
        "id": "0gDlXhBbG991",
        "outputId": "130244e9-87ac-4b30-e5e2-50f3e6e51fb9",
        "colab": {
          "base_uri": "https://localhost:8080/"
        }
      },
      "execution_count": null,
      "outputs": [
        {
          "output_type": "stream",
          "name": "stdout",
          "text": [
            "[[ 5  1 11  1]\n",
            " [15  7 18 15]\n",
            " [18  3 19 15]]\n"
          ]
        }
      ]
    },
    {
      "cell_type": "code",
      "source": [
        "# array of evenly spaced values -, specify number of values required\n",
        "d = np.linspace(10, 30, 5)\n",
        "print(d)"
      ],
      "metadata": {
        "id": "at-JPUYfHcqB",
        "outputId": "90a96b5d-d950-45b8-f0ad-375f86f1e652",
        "colab": {
          "base_uri": "https://localhost:8080/"
        }
      },
      "execution_count": null,
      "outputs": [
        {
          "output_type": "stream",
          "name": "stdout",
          "text": [
            "[10. 15. 20. 25. 30.]\n"
          ]
        }
      ]
    },
    {
      "cell_type": "code",
      "source": [
        "# array of evenly spaced values -, specify steps\n",
        "\n",
        "e = np.arange(5, 50, 5)\n",
        "print(e)"
      ],
      "metadata": {
        "id": "ADg7YjN4H8NM",
        "outputId": "5c904269-3250-4813-d3b1-c3dc792d059a",
        "colab": {
          "base_uri": "https://localhost:8080/"
        }
      },
      "execution_count": null,
      "outputs": [
        {
          "output_type": "stream",
          "name": "stdout",
          "text": [
            "[ 5 10 15 20 25 30 35 40 45]\n"
          ]
        }
      ]
    },
    {
      "cell_type": "code",
      "source": [
        "#convert list to np array\n",
        "list2 = [10, 20 ,30 ,40, 50, 38]\n",
        "np_array = np.asarray(list2)\n",
        "print(np_array)\n",
        "type(np_array)"
      ],
      "metadata": {
        "id": "OgdLO004IPm6",
        "outputId": "c49eb59a-4b8b-41eb-d075-6633c6d67807",
        "colab": {
          "base_uri": "https://localhost:8080/"
        }
      },
      "execution_count": null,
      "outputs": [
        {
          "output_type": "stream",
          "name": "stdout",
          "text": [
            "[10 20 30 40 50 38]\n"
          ]
        },
        {
          "output_type": "execute_result",
          "data": {
            "text/plain": [
              "numpy.ndarray"
            ]
          },
          "metadata": {},
          "execution_count": 42
        }
      ]
    },
    {
      "cell_type": "markdown",
      "source": [
        "Analysing an np array"
      ],
      "metadata": {
        "id": "6ZfVbIwSInQE"
      }
    },
    {
      "cell_type": "code",
      "source": [
        "c = np.random.randint(10, 90, (5, 5))\n",
        "print(c)"
      ],
      "metadata": {
        "id": "JRuCLQ_aIq0N",
        "outputId": "39e59ef2-0c82-45b0-ec60-90c899345bd9",
        "colab": {
          "base_uri": "https://localhost:8080/"
        }
      },
      "execution_count": null,
      "outputs": [
        {
          "output_type": "stream",
          "name": "stdout",
          "text": [
            "[[48 46 71 64 59]\n",
            " [46 61 43 58 73]\n",
            " [27 30 89 65 87]\n",
            " [65 40 14 25 53]\n",
            " [30 10 61 88 32]]\n"
          ]
        }
      ]
    },
    {
      "cell_type": "code",
      "source": [
        "# array dimensions\n",
        "print(c.shape)"
      ],
      "metadata": {
        "id": "DXQOYS_CI3pP",
        "outputId": "638765d0-91a5-4ecf-83b5-0c24f5cd09c1",
        "colab": {
          "base_uri": "https://localhost:8080/"
        }
      },
      "execution_count": null,
      "outputs": [
        {
          "output_type": "stream",
          "name": "stdout",
          "text": [
            "(5, 5)\n"
          ]
        }
      ]
    },
    {
      "cell_type": "code",
      "source": [
        "# number of dimensions\n",
        "print(c.ndim)"
      ],
      "metadata": {
        "id": "Uv41vovGI7Lr",
        "outputId": "d9202e22-060f-4993-86d6-3172875b5ebb",
        "colab": {
          "base_uri": "https://localhost:8080/"
        }
      },
      "execution_count": null,
      "outputs": [
        {
          "output_type": "stream",
          "name": "stdout",
          "text": [
            "2\n"
          ]
        }
      ]
    },
    {
      "cell_type": "code",
      "source": [
        "#number of elements\n",
        "print(c.size)"
      ],
      "metadata": {
        "id": "Q4nDnsYEJFt9",
        "outputId": "9ea607ad-c3f7-40fe-f53a-bf0a322e1398",
        "colab": {
          "base_uri": "https://localhost:8080/"
        }
      },
      "execution_count": null,
      "outputs": [
        {
          "output_type": "stream",
          "name": "stdout",
          "text": [
            "25\n"
          ]
        }
      ]
    },
    {
      "cell_type": "code",
      "source": [
        "#checkign data type of values in array\n",
        "print(c.dtype)"
      ],
      "metadata": {
        "id": "3yxsMvs-JMAH",
        "outputId": "3f114f2b-6fd6-40d9-a4fd-603f191a89dd",
        "colab": {
          "base_uri": "https://localhost:8080/"
        }
      },
      "execution_count": null,
      "outputs": [
        {
          "output_type": "stream",
          "name": "stdout",
          "text": [
            "int64\n"
          ]
        }
      ]
    },
    {
      "cell_type": "markdown",
      "source": [
        "Math operations"
      ],
      "metadata": {
        "id": "3OTbfxcZJc15"
      }
    },
    {
      "cell_type": "code",
      "source": [
        "list1 = [1, 2, 3, 4, 5]\n",
        "list2 = [6, 7, 8, 9, 10]\n",
        "\n",
        "print(list1 + list2) #concat or join 2 list"
      ],
      "metadata": {
        "id": "JQfxn0U7Jdzb",
        "outputId": "b7b33395-5539-4d83-ff2b-6b0ffc884613",
        "colab": {
          "base_uri": "https://localhost:8080/"
        }
      },
      "execution_count": null,
      "outputs": [
        {
          "output_type": "stream",
          "name": "stdout",
          "text": [
            "[1, 2, 3, 4, 5, 6, 7, 8, 9, 10]\n"
          ]
        }
      ]
    },
    {
      "cell_type": "code",
      "source": [
        "a = np.random.randint(0, 10, (3, 3))\n",
        "b = np.random.randint(10, 20, (3, 3))\n",
        "\n",
        "print(a)\n",
        "print(b)"
      ],
      "metadata": {
        "id": "F5SQL4CKJy1t",
        "outputId": "f7ef564b-45d8-489c-8fa2-ca6abb66ee9d",
        "colab": {
          "base_uri": "https://localhost:8080/"
        }
      },
      "execution_count": null,
      "outputs": [
        {
          "output_type": "stream",
          "name": "stdout",
          "text": [
            "[[0 7 0]\n",
            " [7 4 3]\n",
            " [0 8 7]]\n",
            "[[10 18 14]\n",
            " [14 14 12]\n",
            " [18 14 13]]\n"
          ]
        }
      ]
    },
    {
      "cell_type": "code",
      "source": [
        "#math operation in np\n",
        "print(a + b)\n",
        "print(a - b)\n",
        "print(a * b)\n",
        "print(a / b)"
      ],
      "metadata": {
        "id": "X2f6wPLuKGp5",
        "outputId": "2b62da3c-d947-47bd-acbe-9ae95ccf2c12",
        "colab": {
          "base_uri": "https://localhost:8080/"
        }
      },
      "execution_count": null,
      "outputs": [
        {
          "output_type": "stream",
          "name": "stdout",
          "text": [
            "[[10 25 14]\n",
            " [21 18 15]\n",
            " [18 22 20]]\n",
            "[[-10 -11 -14]\n",
            " [ -7 -10  -9]\n",
            " [-18  -6  -6]]\n",
            "[[  0 126   0]\n",
            " [ 98  56  36]\n",
            " [  0 112  91]]\n",
            "[[0.         0.38888889 0.        ]\n",
            " [0.5        0.28571429 0.25      ]\n",
            " [0.         0.57142857 0.53846154]]\n"
          ]
        }
      ]
    },
    {
      "cell_type": "code",
      "source": [
        "a = np.random.randint(0, 10, (3, 3))\n",
        "b = np.random.randint(10, 20, (3, 3))\n",
        "\n",
        "print(a)\n",
        "print(b)\n"
      ],
      "metadata": {
        "id": "Mk5LVP_lKht6",
        "outputId": "c0552931-3b78-4c3d-b9a8-029613abda4e",
        "colab": {
          "base_uri": "https://localhost:8080/"
        }
      },
      "execution_count": null,
      "outputs": [
        {
          "output_type": "stream",
          "name": "stdout",
          "text": [
            "[[7 2 6]\n",
            " [4 1 1]\n",
            " [3 0 4]]\n",
            "[[16 11 10]\n",
            " [18 18 18]\n",
            " [11 13 14]]\n"
          ]
        }
      ]
    },
    {
      "cell_type": "code",
      "source": [
        "print(np.add(a ,b))"
      ],
      "metadata": {
        "id": "6XTtjEB2K1MF",
        "outputId": "c67329c9-c555-4860-9fdb-5449d976556d",
        "colab": {
          "base_uri": "https://localhost:8080/"
        }
      },
      "execution_count": null,
      "outputs": [
        {
          "output_type": "stream",
          "name": "stdout",
          "text": [
            "[[23 13 16]\n",
            " [22 19 19]\n",
            " [14 13 18]]\n"
          ]
        }
      ]
    },
    {
      "cell_type": "code",
      "source": [
        "print(np.subtract(a, b))"
      ],
      "metadata": {
        "id": "ZitmPFt7KwG7",
        "outputId": "0694ef59-a7e9-4491-c48a-9e84f1dd9049",
        "colab": {
          "base_uri": "https://localhost:8080/"
        }
      },
      "execution_count": null,
      "outputs": [
        {
          "output_type": "stream",
          "name": "stdout",
          "text": [
            "[[ -9  -9  -4]\n",
            " [-14 -17 -17]\n",
            " [ -8 -13 -10]]\n"
          ]
        }
      ]
    },
    {
      "cell_type": "code",
      "source": [
        "print(np.multiply(a, b))"
      ],
      "metadata": {
        "id": "IhgW6rZxK48i",
        "outputId": "62ddad18-1c99-4904-e63d-3bc9df12a4b9",
        "colab": {
          "base_uri": "https://localhost:8080/"
        }
      },
      "execution_count": null,
      "outputs": [
        {
          "output_type": "stream",
          "name": "stdout",
          "text": [
            "[[112  22  60]\n",
            " [ 72  18  18]\n",
            " [ 33   0  56]]\n"
          ]
        }
      ]
    },
    {
      "cell_type": "code",
      "source": [
        "print(np.divide(a, b))"
      ],
      "metadata": {
        "id": "8AhJaIB-K62S",
        "outputId": "10710313-a3d4-416c-a847-22a13bf986b2",
        "colab": {
          "base_uri": "https://localhost:8080/"
        }
      },
      "execution_count": null,
      "outputs": [
        {
          "output_type": "stream",
          "name": "stdout",
          "text": [
            "[[0.4375     0.18181818 0.6       ]\n",
            " [0.22222222 0.05555556 0.05555556]\n",
            " [0.27272727 0.         0.28571429]]\n"
          ]
        }
      ]
    },
    {
      "cell_type": "markdown",
      "source": [
        "Array manipulation"
      ],
      "metadata": {
        "id": "n8n1DHjkK9p8"
      }
    },
    {
      "cell_type": "code",
      "source": [
        "array = np.random.randint(0, 10, (2, 3))\n",
        "print(array)\n",
        "\n",
        "print(array.shape)"
      ],
      "metadata": {
        "id": "GXqGryOEK_QL",
        "outputId": "737c4834-9abb-419f-a4d6-b3da35407aa5",
        "colab": {
          "base_uri": "https://localhost:8080/"
        }
      },
      "execution_count": null,
      "outputs": [
        {
          "output_type": "stream",
          "name": "stdout",
          "text": [
            "[[0 5 4]\n",
            " [5 9 6]]\n",
            "(2, 3)\n"
          ]
        }
      ]
    },
    {
      "cell_type": "code",
      "source": [
        "#transpose\n",
        "\n",
        "trans = np.transpose(array)\n",
        "print(trans)\n",
        "\n",
        "print(trans.shape)"
      ],
      "metadata": {
        "id": "JwX9L_ZNLIOJ",
        "outputId": "7d99db22-dce1-499b-b28c-2057aca6ebf3",
        "colab": {
          "base_uri": "https://localhost:8080/"
        }
      },
      "execution_count": null,
      "outputs": [
        {
          "output_type": "stream",
          "name": "stdout",
          "text": [
            "[[0 5]\n",
            " [5 9]\n",
            " [4 6]]\n",
            "(3, 2)\n"
          ]
        }
      ]
    },
    {
      "cell_type": "code",
      "source": [
        "array = np.random.randint(0, 10, (2, 3))\n",
        "print(array)\n",
        "\n",
        "print(array.shape)"
      ],
      "metadata": {
        "id": "amz3oLqrLbYP",
        "outputId": "0fe34eab-f2a3-4ab6-f0a0-c7ca91d7eb78",
        "colab": {
          "base_uri": "https://localhost:8080/"
        }
      },
      "execution_count": null,
      "outputs": [
        {
          "output_type": "stream",
          "name": "stdout",
          "text": [
            "[[1 8 6]\n",
            " [9 2 6]]\n",
            "(2, 3)\n"
          ]
        }
      ]
    },
    {
      "cell_type": "code",
      "source": [
        "trans2 = array.T\n",
        "print(trans2)\n",
        "\n",
        "print(trans2.shape)"
      ],
      "metadata": {
        "id": "DMPsG1ifLcrU",
        "outputId": "2ba3ecd2-103c-49b4-c1cc-5a974c3b097a",
        "colab": {
          "base_uri": "https://localhost:8080/"
        }
      },
      "execution_count": null,
      "outputs": [
        {
          "output_type": "stream",
          "name": "stdout",
          "text": [
            "[[1 9]\n",
            " [8 2]\n",
            " [6 6]]\n",
            "(3, 2)\n"
          ]
        }
      ]
    },
    {
      "cell_type": "code",
      "source": [
        "#reshape\n",
        "\n",
        "a = np.random.randint(0, 10, (2, 3))\n",
        "print(a)"
      ],
      "metadata": {
        "id": "sRi0-euXLpJ8",
        "outputId": "636169a3-bbdd-48fe-b4ea-7961a5c60a54",
        "colab": {
          "base_uri": "https://localhost:8080/"
        }
      },
      "execution_count": null,
      "outputs": [
        {
          "output_type": "stream",
          "name": "stdout",
          "text": [
            "[[2 3 0]\n",
            " [4 6 8]]\n"
          ]
        }
      ]
    },
    {
      "cell_type": "code",
      "source": [
        "print(a.shape)"
      ],
      "metadata": {
        "id": "hp_zqbRtLuoV",
        "outputId": "d6f061ee-41d3-4050-d0a3-81ecf96d11d5",
        "colab": {
          "base_uri": "https://localhost:8080/"
        }
      },
      "execution_count": null,
      "outputs": [
        {
          "output_type": "stream",
          "name": "stdout",
          "text": [
            "(2, 3)\n"
          ]
        }
      ]
    },
    {
      "cell_type": "code",
      "source": [
        "b = a.reshape(3, 2)\n",
        "print(b)\n",
        "\n",
        "print(b.shape)"
      ],
      "metadata": {
        "id": "c0JwACqsL0Si",
        "outputId": "01904980-dd7f-41f7-d67f-dc9706021675",
        "colab": {
          "base_uri": "https://localhost:8080/"
        }
      },
      "execution_count": null,
      "outputs": [
        {
          "output_type": "stream",
          "name": "stdout",
          "text": [
            "[[2 3]\n",
            " [0 4]\n",
            " [6 8]]\n",
            "(3, 2)\n"
          ]
        }
      ]
    }
  ]
}